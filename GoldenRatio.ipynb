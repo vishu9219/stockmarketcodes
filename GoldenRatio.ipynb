{
  "cells": [
    {
      "cell_type": "markdown",
      "metadata": {
        "id": "view-in-github",
        "colab_type": "text"
      },
      "source": [
        "<a href=\"https://colab.research.google.com/github/vishu9219/stockmarketcodes/blob/master/GoldenRatio.ipynb\" target=\"_parent\"><img src=\"https://colab.research.google.com/assets/colab-badge.svg\" alt=\"Open In Colab\"/></a>"
      ]
    },
    {
      "cell_type": "markdown",
      "metadata": {
        "id": "07hQ90TsCIwI"
      },
      "source": []
    },
    {
      "cell_type": "markdown",
      "metadata": {
        "id": "y_iIEGJGCMvd"
      },
      "source": [
        "# Install Necessary Libraries:\n",
        "\n",
        "`yfinance`: Use `yfinance` to download historical data\n",
        "\n",
        "`pandas`: Use `pandas` to calculate Moving Averages and Implement Crossover\n",
        "Logic."
      ]
    },
    {
      "cell_type": "code",
      "execution_count": 6,
      "metadata": {
        "colab": {
          "base_uri": "https://localhost:8080/"
        },
        "id": "-1ourweJDRp5",
        "outputId": "8ece1e80-47e6-4cb8-b2a9-aad9c1da6dea"
      },
      "outputs": [
        {
          "output_type": "stream",
          "name": "stdout",
          "text": [
            "Requirement already satisfied: yfinance in /usr/local/lib/python3.10/dist-packages (0.2.31)\n",
            "Requirement already satisfied: pandas in /usr/local/lib/python3.10/dist-packages (1.5.3)\n",
            "Requirement already satisfied: numpy in /usr/local/lib/python3.10/dist-packages (1.23.5)\n",
            "Requirement already satisfied: requests in /usr/local/lib/python3.10/dist-packages (2.31.0)\n",
            "Requirement already satisfied: multitasking>=0.0.7 in /usr/local/lib/python3.10/dist-packages (from yfinance) (0.0.11)\n",
            "Requirement already satisfied: lxml>=4.9.1 in /usr/local/lib/python3.10/dist-packages (from yfinance) (4.9.3)\n",
            "Requirement already satisfied: appdirs>=1.4.4 in /usr/local/lib/python3.10/dist-packages (from yfinance) (1.4.4)\n",
            "Requirement already satisfied: pytz>=2022.5 in /usr/local/lib/python3.10/dist-packages (from yfinance) (2023.3.post1)\n",
            "Requirement already satisfied: frozendict>=2.3.4 in /usr/local/lib/python3.10/dist-packages (from yfinance) (2.3.8)\n",
            "Requirement already satisfied: peewee>=3.16.2 in /usr/local/lib/python3.10/dist-packages (from yfinance) (3.17.0)\n",
            "Requirement already satisfied: beautifulsoup4>=4.11.1 in /usr/local/lib/python3.10/dist-packages (from yfinance) (4.11.2)\n",
            "Requirement already satisfied: html5lib>=1.1 in /usr/local/lib/python3.10/dist-packages (from yfinance) (1.1)\n",
            "Requirement already satisfied: python-dateutil>=2.8.1 in /usr/local/lib/python3.10/dist-packages (from pandas) (2.8.2)\n",
            "Requirement already satisfied: charset-normalizer<4,>=2 in /usr/local/lib/python3.10/dist-packages (from requests) (3.3.2)\n",
            "Requirement already satisfied: idna<4,>=2.5 in /usr/local/lib/python3.10/dist-packages (from requests) (3.4)\n",
            "Requirement already satisfied: urllib3<3,>=1.21.1 in /usr/local/lib/python3.10/dist-packages (from requests) (2.0.7)\n",
            "Requirement already satisfied: certifi>=2017.4.17 in /usr/local/lib/python3.10/dist-packages (from requests) (2023.7.22)\n",
            "Requirement already satisfied: soupsieve>1.2 in /usr/local/lib/python3.10/dist-packages (from beautifulsoup4>=4.11.1->yfinance) (2.5)\n",
            "Requirement already satisfied: six>=1.9 in /usr/local/lib/python3.10/dist-packages (from html5lib>=1.1->yfinance) (1.16.0)\n",
            "Requirement already satisfied: webencodings in /usr/local/lib/python3.10/dist-packages (from html5lib>=1.1->yfinance) (0.5.1)\n"
          ]
        }
      ],
      "source": [
        "!pip install yfinance pandas numpy requests"
      ]
    },
    {
      "cell_type": "markdown",
      "metadata": {
        "id": "9OQKfefgsR6E"
      },
      "source": [
        "\n",
        "\n",
        "*   Retrieves historical stock data for stocks.\n",
        "*   Calculates the 50-day and 200-day moving averages.\n",
        "*   Determines where the 50-day moving average crosses the 200-day moving average and marks these points as buy or sell signals.\n",
        "*   Plots the stock price, moving averages, and signals on a graph.\n",
        "\n"
      ]
    },
    {
      "cell_type": "code",
      "execution_count": 7,
      "metadata": {
        "id": "FgAn-AYLEPHF"
      },
      "outputs": [],
      "source": [
        "import yfinance as yf\n",
        "import pandas as pd\n",
        "import numpy as np\n",
        "import matplotlib.pyplot as plt\n",
        "\n",
        "def process_for_stock_indicator(stock):\n",
        "  # Download historical data for RELIANCE.NS\n",
        "  data = yf.download(stock, start='2020-01-01')\n",
        "\n",
        "  # Calculate 50-day and 200-day moving averages\n",
        "  data['50_MA'] = data['Close'].rolling(window=50).mean()\n",
        "  data['200_MA'] = data['Close'].rolling(window=200).mean()\n",
        "\n",
        "  # Identify Crossover points\n",
        "  data['Signal'] = 0.0\n",
        "  data['Signal'][50:] = np.where(data['50_MA'][50:] > data['200_MA'][50:], 1.0, 0.0)\n",
        "\n",
        "  # Generate trading orders\n",
        "  data['Position'] = data['Signal'].diff()\n",
        "\n",
        "  # Plotting\n",
        "  plt.figure(figsize=(12,6))\n",
        "  plt.plot(data['Close'], label=stock, alpha=0.5)\n",
        "  plt.plot(data['50_MA'], label='50-Day MA', alpha=0.9)\n",
        "  plt.plot(data['200_MA'], label='200-Day MA', alpha=0.9)\n",
        "\n",
        "  # Highlight buy and sell signals\n",
        "  plt.plot(data[data['Position'] == 1].index,\n",
        "          data['50_MA'][data['Position'] == 1],\n",
        "          '^', markersize=10, color='g', lw=0, label='Buy Signal')\n",
        "  plt.plot(data[data['Position'] == -1].index,\n",
        "          data['50_MA'][data['Position'] == -1],\n",
        "          'v', markersize=10, color='r', lw=0, label='Sell Signal')\n",
        "\n",
        "  plt.title(f'Golden Ratio Crossover - {stock}')\n",
        "  plt.legend()\n",
        "  plt.show()"
      ]
    },
    {
      "cell_type": "markdown",
      "metadata": {
        "id": "OlSyq3ydsqkN"
      },
      "source": [
        "Common code to download data from NSE website about indices which is being targeted here."
      ]
    },
    {
      "cell_type": "code",
      "execution_count": 8,
      "metadata": {
        "id": "WlgByHYwy2eu"
      },
      "outputs": [],
      "source": [
        "import requests\n",
        "from io import StringIO\n",
        "\n",
        "def get_data_from_nse(url):\n",
        "  # Send a GET request to the URL\n",
        "  print(f\"processing for {url}\")\n",
        "  u_a = \"Mozilla/5.0 (X11; Linux x86_64) AppleWebKit/537.36 (KHTML, like Gecko) Chrome/48.0.2564.82 Safari/537.36\"\n",
        "  payload = {}\n",
        "  headers = {\"USER-AGENT\":u_a}\n",
        "  response = requests.request(\"GET\", url, headers=headers, data=payload)\n",
        "  print(f\"Got the response\")\n",
        "\n",
        "  # Check if the request was successful\n",
        "  if response.status_code == 200:\n",
        "      print(f\"converting to stringIO\")\n",
        "      # Use StringIO to read CSV content\n",
        "      csv_content = StringIO(response.content.decode('utf-8'))\n",
        "\n",
        "      print(f\"create dataframe\")\n",
        "      # Load content into a DataFrame\n",
        "      df = pd.read_csv(csv_content)\n",
        "\n",
        "      # Display the first few rows of the DataFrame\n",
        "      print(df.head())\n",
        "      return df\n",
        "  else:\n",
        "      print(f\"Failed to download file: status code {response.status_code}\")\n",
        "      return None"
      ]
    },
    {
      "cell_type": "markdown",
      "metadata": {
        "id": "M7j_tF2TzfZU"
      },
      "source": [
        "Call the `get_data_from_nse` for targeted nse strategies."
      ]
    },
    {
      "cell_type": "code",
      "execution_count": null,
      "metadata": {
        "colab": {
          "base_uri": "https://localhost:8080/"
        },
        "id": "L7oK8I36zvmv",
        "outputId": "3b7acc06-7475-4418-9ada-4c19f1f09ea9"
      },
      "outputs": [
        {
          "output_type": "stream",
          "name": "stdout",
          "text": [
            "processing for https://www.niftyindices.com/IndexConstituent/ind_nifty200Momentum30_list.csv\n"
          ]
        }
      ],
      "source": [
        "urls=[\n",
        "    'https://www.niftyindices.com/IndexConstituent/ind_nifty200Momentum30_list.csv',\n",
        "    'https://www.niftyindices.com/IndexConstituent/ind_nifty200alpha30_list.csv',\n",
        "    'https://www.niftyindices.com/IndexConstituent/ind_nifty100Alpha30list.csv',\n",
        "    'https://www.niftyindices.com/IndexConstituent/ind_nifty_Alpha_Index.csv',\n",
        "    'https://www.niftyindices.com/IndexConstituent/ind_nifty_alpha_lowvol30list.csv',\n",
        "    'https://www.niftyindices.com/IndexConstituent/ind_nifty_alpha_quality_lowvol30list.csv',\n",
        "    'https://www.niftyindices.com/IndexConstituent/ind_nifty_alpha_quality_value_lowvol30list.csv',\n",
        "    'https://www.niftyindices.com/IndexConstituent/ind_nifty_alpha_quality_value_lowvol30list.csv'\n",
        "]\n",
        "\n",
        "download_df=pd.DataFrame()\n",
        "for url in urls:\n",
        "  df = get_data_from_nse(url)\n",
        "  if df is None:\n",
        "    continue\n",
        "  pd.concat([df, download_df], axis=0)\n",
        "\n",
        "download_df=download_df['Symbol']\n",
        "download_df['Symbol'] = download_df['Symbol'].astype(str) + \".NS\"\n",
        "download_df.drop_duplicates()\n",
        "\n",
        "for index, row in df.iterrows():\n",
        "  process_for_stock_indicator(row['Symbol'])\n"
      ]
    }
  ],
  "metadata": {
    "colab": {
      "provenance": [],
      "toc_visible": true,
      "authorship_tag": "ABX9TyOxRqlNto6W5dWdFhZoKrdK",
      "include_colab_link": true
    },
    "kernelspec": {
      "display_name": "Python 3",
      "name": "python3"
    },
    "language_info": {
      "name": "python"
    }
  },
  "nbformat": 4,
  "nbformat_minor": 0
}